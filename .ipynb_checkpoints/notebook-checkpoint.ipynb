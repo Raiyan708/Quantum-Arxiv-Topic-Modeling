{
 "cells": [
  {
   "cell_type": "code",
   "execution_count": null,
   "metadata": {
    "vscode": {
     "languageId": "plaintext"
    }
   },
   "outputs": [],
   "source": [
    "import json\n",
    "import pandas as pd\n",
    "\n",
    "# Load the JSON file line by line\n",
    "with open('arxiv-metadata-oai-snapshot.json', 'r') as f:\n",
    "    data = [json.loads(line) for line in f]\n",
    "\n",
    "# Filter for quantum machine learning papers\n",
    "filtered_data = [entry for entry in data if 'quantum' in entry['title'].lower() or 'quantum' in entry['abstract'].lower()]\n",
    "\n",
    "# Save to a DataFrame and then CSV\n",
    "df = pd.DataFrame(filtered_data)[['id', 'title', 'abstract', 'update_date']]\n",
    "df.to_csv('quantum_papers.csv', index=False)\n",
    "print(f\"Found {len(df)} quantum-related papers.\")"
   ]
  }
 ],
 "metadata": {
  "language_info": {
   "name": "python"
  }
 },
 "nbformat": 4,
 "nbformat_minor": 2
}
