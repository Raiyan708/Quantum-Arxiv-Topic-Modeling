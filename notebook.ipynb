{
 "cells": [
  {
   "cell_type": "code",
   "execution_count": 5,
   "metadata": {},
   "outputs": [
    {
     "name": "stdout",
     "output_type": "stream",
     "text": [
      "Requirement already satisfied: nltk in c:\\users\\muham\\appdata\\local\\programs\\python\\python311\\lib\\site-packages (3.9.1)\n",
      "Requirement already satisfied: click in c:\\users\\muham\\appdata\\local\\programs\\python\\python311\\lib\\site-packages (from nltk) (8.1.8)\n",
      "Requirement already satisfied: joblib in c:\\users\\muham\\appdata\\local\\programs\\python\\python311\\lib\\site-packages (from nltk) (1.4.2)\n",
      "Requirement already satisfied: regex>=2021.8.3 in c:\\users\\muham\\appdata\\local\\programs\\python\\python311\\lib\\site-packages (from nltk) (2024.11.6)\n",
      "Requirement already satisfied: tqdm in c:\\users\\muham\\appdata\\local\\programs\\python\\python311\\lib\\site-packages (from nltk) (4.67.1)\n",
      "Requirement already satisfied: colorama in c:\\users\\muham\\appdata\\local\\programs\\python\\python311\\lib\\site-packages (from click->nltk) (0.4.6)\n",
      "Note: you may need to restart the kernel to use updated packages.\n"
     ]
    }
   ],
   "source": [
    "pip install nltk"
   ]
  },
  {
   "cell_type": "code",
   "execution_count": 1,
   "metadata": {},
   "outputs": [
    {
     "ename": "KeyboardInterrupt",
     "evalue": "",
     "output_type": "error",
     "traceback": [
      "\u001b[31m---------------------------------------------------------------------------\u001b[39m",
      "\u001b[31mKeyboardInterrupt\u001b[39m                         Traceback (most recent call last)",
      "\u001b[36mCell\u001b[39m\u001b[36m \u001b[39m\u001b[32mIn[1]\u001b[39m\u001b[32m, line 6\u001b[39m\n\u001b[32m      4\u001b[39m \u001b[38;5;66;03m# Load the JSON file line by line\u001b[39;00m\n\u001b[32m      5\u001b[39m \u001b[38;5;28;01mwith\u001b[39;00m \u001b[38;5;28mopen\u001b[39m(\u001b[33m'\u001b[39m\u001b[33marxiv-metadata-oai-snapshot.json\u001b[39m\u001b[33m'\u001b[39m, \u001b[33m'\u001b[39m\u001b[33mr\u001b[39m\u001b[33m'\u001b[39m) \u001b[38;5;28;01mas\u001b[39;00m f:\n\u001b[32m----> \u001b[39m\u001b[32m6\u001b[39m     data = \u001b[43m[\u001b[49m\u001b[43mjson\u001b[49m\u001b[43m.\u001b[49m\u001b[43mloads\u001b[49m\u001b[43m(\u001b[49m\u001b[43mline\u001b[49m\u001b[43m)\u001b[49m\u001b[43m \u001b[49m\u001b[38;5;28;43;01mfor\u001b[39;49;00m\u001b[43m \u001b[49m\u001b[43mline\u001b[49m\u001b[43m \u001b[49m\u001b[38;5;129;43;01min\u001b[39;49;00m\u001b[43m \u001b[49m\u001b[43mf\u001b[49m\u001b[43m]\u001b[49m\n\u001b[32m      8\u001b[39m \u001b[38;5;66;03m# Filter for quantum machine learning papers\u001b[39;00m\n\u001b[32m      9\u001b[39m filtered_data = [entry \u001b[38;5;28;01mfor\u001b[39;00m entry \u001b[38;5;129;01min\u001b[39;00m data \u001b[38;5;28;01mif\u001b[39;00m \u001b[33m'\u001b[39m\u001b[33mquantum\u001b[39m\u001b[33m'\u001b[39m \u001b[38;5;129;01min\u001b[39;00m entry[\u001b[33m'\u001b[39m\u001b[33mtitle\u001b[39m\u001b[33m'\u001b[39m].lower() \u001b[38;5;129;01mor\u001b[39;00m \u001b[33m'\u001b[39m\u001b[33mquantum\u001b[39m\u001b[33m'\u001b[39m \u001b[38;5;129;01min\u001b[39;00m entry[\u001b[33m'\u001b[39m\u001b[33mabstract\u001b[39m\u001b[33m'\u001b[39m].lower()]\n",
      "\u001b[36mCell\u001b[39m\u001b[36m \u001b[39m\u001b[32mIn[1]\u001b[39m\u001b[32m, line 6\u001b[39m, in \u001b[36m<listcomp>\u001b[39m\u001b[34m(.0)\u001b[39m\n\u001b[32m      4\u001b[39m \u001b[38;5;66;03m# Load the JSON file line by line\u001b[39;00m\n\u001b[32m      5\u001b[39m \u001b[38;5;28;01mwith\u001b[39;00m \u001b[38;5;28mopen\u001b[39m(\u001b[33m'\u001b[39m\u001b[33marxiv-metadata-oai-snapshot.json\u001b[39m\u001b[33m'\u001b[39m, \u001b[33m'\u001b[39m\u001b[33mr\u001b[39m\u001b[33m'\u001b[39m) \u001b[38;5;28;01mas\u001b[39;00m f:\n\u001b[32m----> \u001b[39m\u001b[32m6\u001b[39m     data = [\u001b[43mjson\u001b[49m\u001b[43m.\u001b[49m\u001b[43mloads\u001b[49m\u001b[43m(\u001b[49m\u001b[43mline\u001b[49m\u001b[43m)\u001b[49m \u001b[38;5;28;01mfor\u001b[39;00m line \u001b[38;5;129;01min\u001b[39;00m f]\n\u001b[32m      8\u001b[39m \u001b[38;5;66;03m# Filter for quantum machine learning papers\u001b[39;00m\n\u001b[32m      9\u001b[39m filtered_data = [entry \u001b[38;5;28;01mfor\u001b[39;00m entry \u001b[38;5;129;01min\u001b[39;00m data \u001b[38;5;28;01mif\u001b[39;00m \u001b[33m'\u001b[39m\u001b[33mquantum\u001b[39m\u001b[33m'\u001b[39m \u001b[38;5;129;01min\u001b[39;00m entry[\u001b[33m'\u001b[39m\u001b[33mtitle\u001b[39m\u001b[33m'\u001b[39m].lower() \u001b[38;5;129;01mor\u001b[39;00m \u001b[33m'\u001b[39m\u001b[33mquantum\u001b[39m\u001b[33m'\u001b[39m \u001b[38;5;129;01min\u001b[39;00m entry[\u001b[33m'\u001b[39m\u001b[33mabstract\u001b[39m\u001b[33m'\u001b[39m].lower()]\n",
      "\u001b[36mFile \u001b[39m\u001b[32m~\\AppData\\Local\\Programs\\Python\\Python311\\Lib\\json\\__init__.py:334\u001b[39m, in \u001b[36mloads\u001b[39m\u001b[34m(s, cls, object_hook, parse_float, parse_int, parse_constant, object_pairs_hook, **kw)\u001b[39m\n\u001b[32m    301\u001b[39m \u001b[38;5;250m\u001b[39m\u001b[33;03m\"\"\"Deserialize ``s`` (a ``str``, ``bytes`` or ``bytearray`` instance\u001b[39;00m\n\u001b[32m    302\u001b[39m \u001b[33;03mcontaining a JSON document) to a Python object.\u001b[39;00m\n\u001b[32m    303\u001b[39m \n\u001b[32m   (...)\u001b[39m\u001b[32m    331\u001b[39m \u001b[33;03mkwarg; otherwise ``JSONDecoder`` is used.\u001b[39;00m\n\u001b[32m    332\u001b[39m \u001b[33;03m\"\"\"\u001b[39;00m\n\u001b[32m    333\u001b[39m \u001b[38;5;28;01mif\u001b[39;00m \u001b[38;5;28misinstance\u001b[39m(s, \u001b[38;5;28mstr\u001b[39m):\n\u001b[32m--> \u001b[39m\u001b[32m334\u001b[39m     \u001b[38;5;28;01mif\u001b[39;00m \u001b[43ms\u001b[49m\u001b[43m.\u001b[49m\u001b[43mstartswith\u001b[49m\u001b[43m(\u001b[49m\u001b[33;43m'\u001b[39;49m\u001b[38;5;130;43;01m\\ufeff\u001b[39;49;00m\u001b[33;43m'\u001b[39;49m\u001b[43m)\u001b[49m:\n\u001b[32m    335\u001b[39m         \u001b[38;5;28;01mraise\u001b[39;00m JSONDecodeError(\u001b[33m\"\u001b[39m\u001b[33mUnexpected UTF-8 BOM (decode using utf-8-sig)\u001b[39m\u001b[33m\"\u001b[39m,\n\u001b[32m    336\u001b[39m                               s, \u001b[32m0\u001b[39m)\n\u001b[32m    337\u001b[39m \u001b[38;5;28;01melse\u001b[39;00m:\n",
      "\u001b[31mKeyboardInterrupt\u001b[39m: "
     ]
    }
   ],
   "source": [
    "import json\n",
    "import pandas as pd\n",
    "\n",
    "# Load the JSON file line by line\n",
    "with open('arxiv-metadata-oai-snapshot.json', 'r') as f:\n",
    "    data = [json.loads(line) for line in f]\n",
    "\n",
    "# Filter for quantum machine learning papers\n",
    "filtered_data = [entry for entry in data if 'quantum' in entry['title'].lower() or 'quantum' in entry['abstract'].lower()]\n",
    "\n",
    "# Save to a DataFrame and then CSV\n",
    "df = pd.DataFrame(filtered_data)[['id', 'title', 'abstract', 'update_date']]\n",
    "df.to_csv('quantum_papers.csv', index=False)\n",
    "print(f\"Found {len(df)} quantum-related papers.\")"
   ]
  },
  {
   "cell_type": "markdown",
   "metadata": {},
   "source": []
  },
  {
   "cell_type": "code",
   "execution_count": 2,
   "metadata": {},
   "outputs": [
    {
     "name": "stdout",
     "output_type": "stream",
     "text": [
      "Starting to load and filter the JSON file...\n",
      "Processed 10000 papers...\n",
      "Processed 20000 papers...\n",
      "Processed 30000 papers...\n",
      "Processed 40000 papers...\n",
      "Processed 50000 papers...\n",
      "Processed 50000 papers in total.\n",
      "Found 6095 quantum-related papers after filtering.\n",
      "Saving filtered data to CSV...\n",
      "Saved 6095 quantum-related papers to quantum_papers.csv.\n"
     ]
    }
   ],
   "source": [
    "import json\n",
    "import pandas as pd\n",
    "\n",
    "# Load and filter in chunks\n",
    "print(\"Starting to load and filter the JSON file...\")\n",
    "filtered_data = []\n",
    "max_papers_to_process = 50000  # Process only 50,000 papers for now\n",
    "count = 0\n",
    "\n",
    "with open('arxiv-metadata-oai-snapshot.json', 'r') as f:\n",
    "    for line in f:\n",
    "        if count >= max_papers_to_process:\n",
    "            break\n",
    "        try:\n",
    "            entry = json.loads(line)\n",
    "            count += 1\n",
    "            if count % 10000 == 0:\n",
    "                print(f\"Processed {count} papers...\")\n",
    "            title = str(entry.get('title', '')).lower()\n",
    "            abstract = str(entry.get('abstract', '')).lower()\n",
    "            if 'quantum' in title or 'quantum' in abstract:\n",
    "                filtered_data.append(entry)\n",
    "        except Exception as e:\n",
    "            print(f\"Error processing entry: {e}\")\n",
    "            continue\n",
    "\n",
    "print(f\"Processed {count} papers in total.\")\n",
    "print(f\"Found {len(filtered_data)} quantum-related papers after filtering.\")\n",
    "\n",
    "# Save to a DataFrame and then CSV\n",
    "if filtered_data:\n",
    "    print(\"Saving filtered data to CSV...\")\n",
    "    df = pd.DataFrame(filtered_data)[['id', 'title', 'abstract', 'update_date']]\n",
    "    df.to_csv('quantum_papers.csv', index=False)\n",
    "    print(f\"Saved {len(df)} quantum-related papers to quantum_papers.csv.\")\n",
    "else:\n",
    "    print(\"No quantum-related papers found. CSV not created.\")"
   ]
  },
  {
   "cell_type": "code",
   "execution_count": 3,
   "metadata": {},
   "outputs": [
    {
     "name": "stdout",
     "output_type": "stream",
     "text": [
      "Collecting nltk\n",
      "  Downloading nltk-3.9.1-py3-none-any.whl.metadata (2.9 kB)\n",
      "Collecting click (from nltk)\n",
      "  Downloading click-8.1.8-py3-none-any.whl.metadata (2.3 kB)\n",
      "Requirement already satisfied: joblib in c:\\users\\muham\\appdata\\local\\programs\\python\\python311\\lib\\site-packages (from nltk) (1.4.2)\n",
      "Collecting regex>=2021.8.3 (from nltk)\n",
      "  Downloading regex-2024.11.6-cp311-cp311-win_amd64.whl.metadata (41 kB)\n",
      "Collecting tqdm (from nltk)\n",
      "  Downloading tqdm-4.67.1-py3-none-any.whl.metadata (57 kB)\n",
      "Requirement already satisfied: colorama in c:\\users\\muham\\appdata\\local\\programs\\python\\python311\\lib\\site-packages (from click->nltk) (0.4.6)\n",
      "Downloading nltk-3.9.1-py3-none-any.whl (1.5 MB)\n",
      "   ---------------------------------------- 0.0/1.5 MB ? eta -:--:--\n",
      "   ------ --------------------------------- 0.3/1.5 MB ? eta -:--:--\n",
      "   ------ --------------------------------- 0.3/1.5 MB ? eta -:--:--\n",
      "   -------------------- ------------------- 0.8/1.5 MB 1.2 MB/s eta 0:00:01\n",
      "   --------------------------- ------------ 1.0/1.5 MB 1.3 MB/s eta 0:00:01\n",
      "   ---------------------------------- ----- 1.3/1.5 MB 1.3 MB/s eta 0:00:01\n",
      "   ---------------------------------------- 1.5/1.5 MB 1.3 MB/s eta 0:00:00\n",
      "Downloading regex-2024.11.6-cp311-cp311-win_amd64.whl (274 kB)\n",
      "Downloading click-8.1.8-py3-none-any.whl (98 kB)\n",
      "Downloading tqdm-4.67.1-py3-none-any.whl (78 kB)\n",
      "Installing collected packages: tqdm, regex, click, nltk\n",
      "Successfully installed click-8.1.8 nltk-3.9.1 regex-2024.11.6 tqdm-4.67.1\n",
      "Note: you may need to restart the kernel to use updated packages.\n"
     ]
    }
   ],
   "source": [
    "pip install nltk"
   ]
  },
  {
   "cell_type": "code",
   "execution_count": null,
   "metadata": {},
   "outputs": [],
   "source": []
  },
  {
   "cell_type": "code",
   "execution_count": 6,
   "metadata": {},
   "outputs": [
    {
     "name": "stdout",
     "output_type": "stream",
     "text": [
      "Downloading NLTK data...\n"
     ]
    },
    {
     "name": "stderr",
     "output_type": "stream",
     "text": [
      "[nltk_data] Downloading package punkt to C:\\Users\\muham\\nltk_data...\n",
      "[nltk_data]   Unzipping tokenizers\\punkt.zip.\n",
      "[nltk_data] Downloading package stopwords to\n",
      "[nltk_data]     C:\\Users\\muham\\nltk_data...\n",
      "[nltk_data]   Unzipping corpora\\stopwords.zip.\n",
      "[nltk_data] Downloading package wordnet to C:\\Users\\muham\\nltk_data...\n"
     ]
    },
    {
     "name": "stdout",
     "output_type": "stream",
     "text": [
      "NLTK data downloaded successfully!\n"
     ]
    }
   ],
   "source": [
    "import nltk\n",
    "import os\n",
    "\n",
    "# Set a specific directory for NLTK data\n",
    "nltk_data_dir = os.path.join(os.path.expanduser('~'), 'nltk_data')\n",
    "if not os.path.exists(nltk_data_dir):\n",
    "    os.makedirs(nltk_data_dir)\n",
    "nltk.data.path.append(nltk_data_dir)\n",
    "\n",
    "# Download NLTK data to the specified directory\n",
    "print(\"Downloading NLTK data...\")\n",
    "nltk.download('punkt', download_dir=nltk_data_dir)\n",
    "nltk.download('stopwords', download_dir=nltk_data_dir)\n",
    "nltk.download('wordnet', download_dir=nltk_data_dir)\n",
    "print(\"NLTK data downloaded successfully!\")"
   ]
  },
  {
   "cell_type": "code",
   "execution_count": 8,
   "metadata": {},
   "outputs": [
    {
     "name": "stdout",
     "output_type": "stream",
     "text": [
      "Downloading NLTK data...\n"
     ]
    },
    {
     "name": "stderr",
     "output_type": "stream",
     "text": [
      "[nltk_data] Downloading package punkt to C:\\Users\\muham\\nltk_data...\n",
      "[nltk_data]   Package punkt is already up-to-date!\n",
      "[nltk_data] Downloading package punkt_tab to\n",
      "[nltk_data]     C:\\Users\\muham\\nltk_data...\n",
      "[nltk_data]   Unzipping tokenizers\\punkt_tab.zip.\n"
     ]
    },
    {
     "name": "stdout",
     "output_type": "stream",
     "text": [
      "NLTK data downloaded successfully!\n"
     ]
    },
    {
     "name": "stderr",
     "output_type": "stream",
     "text": [
      "[nltk_data] Downloading package stopwords to\n",
      "[nltk_data]     C:\\Users\\muham\\nltk_data...\n",
      "[nltk_data]   Package stopwords is already up-to-date!\n",
      "[nltk_data] Downloading package wordnet to C:\\Users\\muham\\nltk_data...\n",
      "[nltk_data]   Package wordnet is already up-to-date!\n"
     ]
    }
   ],
   "source": [
    "import nltk\n",
    "import os\n",
    "\n",
    "# Set a specific directory for NLTK data\n",
    "nltk_data_dir = os.path.join(os.path.expanduser('~'), 'nltk_data')\n",
    "if not os.path.exists(nltk_data_dir):\n",
    "    os.makedirs(nltk_data_dir)\n",
    "nltk.data.path.append(nltk_data_dir)\n",
    "\n",
    "# Download all required NLTK data\n",
    "print(\"Downloading NLTK data...\")\n",
    "nltk.download('punkt', download_dir=nltk_data_dir)\n",
    "nltk.download('punkt_tab', download_dir=nltk_data_dir)  # New resource\n",
    "nltk.download('stopwords', download_dir=nltk_data_dir)\n",
    "nltk.download('wordnet', download_dir=nltk_data_dir)\n",
    "print(\"NLTK data downloaded successfully!\")"
   ]
  },
  {
   "cell_type": "code",
   "execution_count": 9,
   "metadata": {},
   "outputs": [
    {
     "name": "stderr",
     "output_type": "stream",
     "text": [
      "[nltk_data] Downloading package punkt to\n",
      "[nltk_data]     C:\\Users\\muham\\AppData\\Roaming\\nltk_data...\n",
      "[nltk_data]   Package punkt is already up-to-date!\n",
      "[nltk_data] Downloading package stopwords to\n",
      "[nltk_data]     C:\\Users\\muham\\AppData\\Roaming\\nltk_data...\n",
      "[nltk_data]   Package stopwords is already up-to-date!\n",
      "[nltk_data] Downloading package wordnet to\n",
      "[nltk_data]     C:\\Users\\muham\\AppData\\Roaming\\nltk_data...\n",
      "[nltk_data]   Package wordnet is already up-to-date!\n"
     ]
    },
    {
     "name": "stdout",
     "output_type": "stream",
     "text": [
      "Loading quantum_papers.csv...\n",
      "Loaded 6095 papers.\n",
      "Cleaning abstracts...\n",
      "Text cleaning done! Saved to quantum_papers_cleaned.csv.\n"
     ]
    }
   ],
   "source": [
    "import pandas as pd\n",
    "import re\n",
    "from nltk.corpus import stopwords\n",
    "from nltk.tokenize import word_tokenize\n",
    "from nltk.stem import WordNetLemmatizer\n",
    "\n",
    "# Download NLTK data\n",
    "import nltk\n",
    "nltk.download('punkt')\n",
    "nltk.download('stopwords')\n",
    "nltk.download('wordnet')\n",
    "\n",
    "# Load your data\n",
    "print(\"Loading quantum_papers.csv...\")\n",
    "df = pd.read_csv('quantum_papers.csv')\n",
    "print(f\"Loaded {len(df)} papers.\")\n",
    "\n",
    "# Set up stopwords and lemmatizer\n",
    "stop_words = set(stopwords.words('english'))\n",
    "lemmatizer = WordNetLemmatizer()\n",
    "\n",
    "# Define cleaning function\n",
    "def clean_text(text):\n",
    "    if pd.isna(text):  # Handle missing abstracts\n",
    "        return ''\n",
    "    text = re.sub(r'[^a-zA-Z\\s]', '', text.lower())  # Remove non-letters\n",
    "    tokens = word_tokenize(text)  # Split into words\n",
    "    tokens = [lemmatizer.lemmatize(word) for word in tokens if word not in stop_words and len(word) > 2]\n",
    "    return ' '.join(tokens)\n",
    "\n",
    "# Apply to abstracts\n",
    "print(\"Cleaning abstracts...\")\n",
    "df['clean_abstract'] = df['abstract'].apply(clean_text)\n",
    "df.to_csv('quantum_papers_cleaned.csv', index=False)\n",
    "print(\"Text cleaning done! Saved to quantum_papers_cleaned.csv.\")"
   ]
  },
  {
   "cell_type": "code",
   "execution_count": 4,
   "metadata": {},
   "outputs": [
    {
     "name": "stderr",
     "output_type": "stream",
     "text": [
      "[nltk_data] Downloading package punkt to\n",
      "[nltk_data]     C:\\Users\\muham\\AppData\\Roaming\\nltk_data...\n",
      "[nltk_data]   Unzipping tokenizers\\punkt.zip.\n",
      "[nltk_data] Downloading package stopwords to\n",
      "[nltk_data]     C:\\Users\\muham\\AppData\\Roaming\\nltk_data...\n",
      "[nltk_data]   Unzipping corpora\\stopwords.zip.\n",
      "[nltk_data] Downloading package wordnet to\n",
      "[nltk_data]     C:\\Users\\muham\\AppData\\Roaming\\nltk_data...\n"
     ]
    },
    {
     "name": "stdout",
     "output_type": "stream",
     "text": [
      "Loading quantum_papers.csv...\n",
      "Loaded 6095 papers.\n",
      "Cleaning abstracts...\n"
     ]
    },
    {
     "ename": "LookupError",
     "evalue": "\n**********************************************************************\n  Resource \u001b[93mpunkt_tab\u001b[0m not found.\n  Please use the NLTK Downloader to obtain the resource:\n\n  \u001b[31m>>> import nltk\n  >>> nltk.download('punkt_tab')\n  \u001b[0m\n  For more information see: https://www.nltk.org/data.html\n\n  Attempted to load \u001b[93mtokenizers/punkt_tab/english/\u001b[0m\n\n  Searched in:\n    - 'C:\\\\Users\\\\muham/nltk_data'\n    - 'C:\\\\Users\\\\muham\\\\AppData\\\\Local\\\\Programs\\\\Python\\\\Python311\\\\nltk_data'\n    - 'C:\\\\Users\\\\muham\\\\AppData\\\\Local\\\\Programs\\\\Python\\\\Python311\\\\share\\\\nltk_data'\n    - 'C:\\\\Users\\\\muham\\\\AppData\\\\Local\\\\Programs\\\\Python\\\\Python311\\\\lib\\\\nltk_data'\n    - 'C:\\\\Users\\\\muham\\\\AppData\\\\Roaming\\\\nltk_data'\n    - 'C:\\\\nltk_data'\n    - 'D:\\\\nltk_data'\n    - 'E:\\\\nltk_data'\n**********************************************************************\n",
     "output_type": "error",
     "traceback": [
      "\u001b[31m---------------------------------------------------------------------------\u001b[39m",
      "\u001b[31mLookupError\u001b[39m                               Traceback (most recent call last)",
      "\u001b[36mCell\u001b[39m\u001b[36m \u001b[39m\u001b[32mIn[4]\u001b[39m\u001b[32m, line 33\u001b[39m\n\u001b[32m     31\u001b[39m \u001b[38;5;66;03m# Apply to abstracts\u001b[39;00m\n\u001b[32m     32\u001b[39m \u001b[38;5;28mprint\u001b[39m(\u001b[33m\"\u001b[39m\u001b[33mCleaning abstracts...\u001b[39m\u001b[33m\"\u001b[39m)\n\u001b[32m---> \u001b[39m\u001b[32m33\u001b[39m df[\u001b[33m'\u001b[39m\u001b[33mclean_abstract\u001b[39m\u001b[33m'\u001b[39m] = \u001b[43mdf\u001b[49m\u001b[43m[\u001b[49m\u001b[33;43m'\u001b[39;49m\u001b[33;43mabstract\u001b[39;49m\u001b[33;43m'\u001b[39;49m\u001b[43m]\u001b[49m\u001b[43m.\u001b[49m\u001b[43mapply\u001b[49m\u001b[43m(\u001b[49m\u001b[43mclean_text\u001b[49m\u001b[43m)\u001b[49m\n\u001b[32m     34\u001b[39m df.to_csv(\u001b[33m'\u001b[39m\u001b[33mquantum_papers_cleaned.csv\u001b[39m\u001b[33m'\u001b[39m, index=\u001b[38;5;28;01mFalse\u001b[39;00m)\n\u001b[32m     35\u001b[39m \u001b[38;5;28mprint\u001b[39m(\u001b[33m\"\u001b[39m\u001b[33mText cleaning done! Saved to quantum_papers_cleaned.csv.\u001b[39m\u001b[33m\"\u001b[39m)\n",
      "\u001b[36mFile \u001b[39m\u001b[32m~\\AppData\\Local\\Programs\\Python\\Python311\\Lib\\site-packages\\pandas\\core\\series.py:4924\u001b[39m, in \u001b[36mSeries.apply\u001b[39m\u001b[34m(self, func, convert_dtype, args, by_row, **kwargs)\u001b[39m\n\u001b[32m   4789\u001b[39m \u001b[38;5;28;01mdef\u001b[39;00m\u001b[38;5;250m \u001b[39m\u001b[34mapply\u001b[39m(\n\u001b[32m   4790\u001b[39m     \u001b[38;5;28mself\u001b[39m,\n\u001b[32m   4791\u001b[39m     func: AggFuncType,\n\u001b[32m   (...)\u001b[39m\u001b[32m   4796\u001b[39m     **kwargs,\n\u001b[32m   4797\u001b[39m ) -> DataFrame | Series:\n\u001b[32m   4798\u001b[39m \u001b[38;5;250m    \u001b[39m\u001b[33;03m\"\"\"\u001b[39;00m\n\u001b[32m   4799\u001b[39m \u001b[33;03m    Invoke function on values of Series.\u001b[39;00m\n\u001b[32m   4800\u001b[39m \n\u001b[32m   (...)\u001b[39m\u001b[32m   4915\u001b[39m \u001b[33;03m    dtype: float64\u001b[39;00m\n\u001b[32m   4916\u001b[39m \u001b[33;03m    \"\"\"\u001b[39;00m\n\u001b[32m   4917\u001b[39m     \u001b[38;5;28;01mreturn\u001b[39;00m \u001b[43mSeriesApply\u001b[49m\u001b[43m(\u001b[49m\n\u001b[32m   4918\u001b[39m \u001b[43m        \u001b[49m\u001b[38;5;28;43mself\u001b[39;49m\u001b[43m,\u001b[49m\n\u001b[32m   4919\u001b[39m \u001b[43m        \u001b[49m\u001b[43mfunc\u001b[49m\u001b[43m,\u001b[49m\n\u001b[32m   4920\u001b[39m \u001b[43m        \u001b[49m\u001b[43mconvert_dtype\u001b[49m\u001b[43m=\u001b[49m\u001b[43mconvert_dtype\u001b[49m\u001b[43m,\u001b[49m\n\u001b[32m   4921\u001b[39m \u001b[43m        \u001b[49m\u001b[43mby_row\u001b[49m\u001b[43m=\u001b[49m\u001b[43mby_row\u001b[49m\u001b[43m,\u001b[49m\n\u001b[32m   4922\u001b[39m \u001b[43m        \u001b[49m\u001b[43margs\u001b[49m\u001b[43m=\u001b[49m\u001b[43margs\u001b[49m\u001b[43m,\u001b[49m\n\u001b[32m   4923\u001b[39m \u001b[43m        \u001b[49m\u001b[43mkwargs\u001b[49m\u001b[43m=\u001b[49m\u001b[43mkwargs\u001b[49m\u001b[43m,\u001b[49m\n\u001b[32m-> \u001b[39m\u001b[32m4924\u001b[39m \u001b[43m    \u001b[49m\u001b[43m)\u001b[49m\u001b[43m.\u001b[49m\u001b[43mapply\u001b[49m\u001b[43m(\u001b[49m\u001b[43m)\u001b[49m\n",
      "\u001b[36mFile \u001b[39m\u001b[32m~\\AppData\\Local\\Programs\\Python\\Python311\\Lib\\site-packages\\pandas\\core\\apply.py:1427\u001b[39m, in \u001b[36mSeriesApply.apply\u001b[39m\u001b[34m(self)\u001b[39m\n\u001b[32m   1424\u001b[39m     \u001b[38;5;28;01mreturn\u001b[39;00m \u001b[38;5;28mself\u001b[39m.apply_compat()\n\u001b[32m   1426\u001b[39m \u001b[38;5;66;03m# self.func is Callable\u001b[39;00m\n\u001b[32m-> \u001b[39m\u001b[32m1427\u001b[39m \u001b[38;5;28;01mreturn\u001b[39;00m \u001b[38;5;28;43mself\u001b[39;49m\u001b[43m.\u001b[49m\u001b[43mapply_standard\u001b[49m\u001b[43m(\u001b[49m\u001b[43m)\u001b[49m\n",
      "\u001b[36mFile \u001b[39m\u001b[32m~\\AppData\\Local\\Programs\\Python\\Python311\\Lib\\site-packages\\pandas\\core\\apply.py:1507\u001b[39m, in \u001b[36mSeriesApply.apply_standard\u001b[39m\u001b[34m(self)\u001b[39m\n\u001b[32m   1501\u001b[39m \u001b[38;5;66;03m# row-wise access\u001b[39;00m\n\u001b[32m   1502\u001b[39m \u001b[38;5;66;03m# apply doesn't have a `na_action` keyword and for backward compat reasons\u001b[39;00m\n\u001b[32m   1503\u001b[39m \u001b[38;5;66;03m# we need to give `na_action=\"ignore\"` for categorical data.\u001b[39;00m\n\u001b[32m   1504\u001b[39m \u001b[38;5;66;03m# TODO: remove the `na_action=\"ignore\"` when that default has been changed in\u001b[39;00m\n\u001b[32m   1505\u001b[39m \u001b[38;5;66;03m#  Categorical (GH51645).\u001b[39;00m\n\u001b[32m   1506\u001b[39m action = \u001b[33m\"\u001b[39m\u001b[33mignore\u001b[39m\u001b[33m\"\u001b[39m \u001b[38;5;28;01mif\u001b[39;00m \u001b[38;5;28misinstance\u001b[39m(obj.dtype, CategoricalDtype) \u001b[38;5;28;01melse\u001b[39;00m \u001b[38;5;28;01mNone\u001b[39;00m\n\u001b[32m-> \u001b[39m\u001b[32m1507\u001b[39m mapped = \u001b[43mobj\u001b[49m\u001b[43m.\u001b[49m\u001b[43m_map_values\u001b[49m\u001b[43m(\u001b[49m\n\u001b[32m   1508\u001b[39m \u001b[43m    \u001b[49m\u001b[43mmapper\u001b[49m\u001b[43m=\u001b[49m\u001b[43mcurried\u001b[49m\u001b[43m,\u001b[49m\u001b[43m \u001b[49m\u001b[43mna_action\u001b[49m\u001b[43m=\u001b[49m\u001b[43maction\u001b[49m\u001b[43m,\u001b[49m\u001b[43m \u001b[49m\u001b[43mconvert\u001b[49m\u001b[43m=\u001b[49m\u001b[38;5;28;43mself\u001b[39;49m\u001b[43m.\u001b[49m\u001b[43mconvert_dtype\u001b[49m\n\u001b[32m   1509\u001b[39m \u001b[43m\u001b[49m\u001b[43m)\u001b[49m\n\u001b[32m   1511\u001b[39m \u001b[38;5;28;01mif\u001b[39;00m \u001b[38;5;28mlen\u001b[39m(mapped) \u001b[38;5;129;01mand\u001b[39;00m \u001b[38;5;28misinstance\u001b[39m(mapped[\u001b[32m0\u001b[39m], ABCSeries):\n\u001b[32m   1512\u001b[39m     \u001b[38;5;66;03m# GH#43986 Need to do list(mapped) in order to get treated as nested\u001b[39;00m\n\u001b[32m   1513\u001b[39m     \u001b[38;5;66;03m#  See also GH#25959 regarding EA support\u001b[39;00m\n\u001b[32m   1514\u001b[39m     \u001b[38;5;28;01mreturn\u001b[39;00m obj._constructor_expanddim(\u001b[38;5;28mlist\u001b[39m(mapped), index=obj.index)\n",
      "\u001b[36mFile \u001b[39m\u001b[32m~\\AppData\\Local\\Programs\\Python\\Python311\\Lib\\site-packages\\pandas\\core\\base.py:921\u001b[39m, in \u001b[36mIndexOpsMixin._map_values\u001b[39m\u001b[34m(self, mapper, na_action, convert)\u001b[39m\n\u001b[32m    918\u001b[39m \u001b[38;5;28;01mif\u001b[39;00m \u001b[38;5;28misinstance\u001b[39m(arr, ExtensionArray):\n\u001b[32m    919\u001b[39m     \u001b[38;5;28;01mreturn\u001b[39;00m arr.map(mapper, na_action=na_action)\n\u001b[32m--> \u001b[39m\u001b[32m921\u001b[39m \u001b[38;5;28;01mreturn\u001b[39;00m \u001b[43malgorithms\u001b[49m\u001b[43m.\u001b[49m\u001b[43mmap_array\u001b[49m\u001b[43m(\u001b[49m\u001b[43marr\u001b[49m\u001b[43m,\u001b[49m\u001b[43m \u001b[49m\u001b[43mmapper\u001b[49m\u001b[43m,\u001b[49m\u001b[43m \u001b[49m\u001b[43mna_action\u001b[49m\u001b[43m=\u001b[49m\u001b[43mna_action\u001b[49m\u001b[43m,\u001b[49m\u001b[43m \u001b[49m\u001b[43mconvert\u001b[49m\u001b[43m=\u001b[49m\u001b[43mconvert\u001b[49m\u001b[43m)\u001b[49m\n",
      "\u001b[36mFile \u001b[39m\u001b[32m~\\AppData\\Local\\Programs\\Python\\Python311\\Lib\\site-packages\\pandas\\core\\algorithms.py:1743\u001b[39m, in \u001b[36mmap_array\u001b[39m\u001b[34m(arr, mapper, na_action, convert)\u001b[39m\n\u001b[32m   1741\u001b[39m values = arr.astype(\u001b[38;5;28mobject\u001b[39m, copy=\u001b[38;5;28;01mFalse\u001b[39;00m)\n\u001b[32m   1742\u001b[39m \u001b[38;5;28;01mif\u001b[39;00m na_action \u001b[38;5;129;01mis\u001b[39;00m \u001b[38;5;28;01mNone\u001b[39;00m:\n\u001b[32m-> \u001b[39m\u001b[32m1743\u001b[39m     \u001b[38;5;28;01mreturn\u001b[39;00m \u001b[43mlib\u001b[49m\u001b[43m.\u001b[49m\u001b[43mmap_infer\u001b[49m\u001b[43m(\u001b[49m\u001b[43mvalues\u001b[49m\u001b[43m,\u001b[49m\u001b[43m \u001b[49m\u001b[43mmapper\u001b[49m\u001b[43m,\u001b[49m\u001b[43m \u001b[49m\u001b[43mconvert\u001b[49m\u001b[43m=\u001b[49m\u001b[43mconvert\u001b[49m\u001b[43m)\u001b[49m\n\u001b[32m   1744\u001b[39m \u001b[38;5;28;01melse\u001b[39;00m:\n\u001b[32m   1745\u001b[39m     \u001b[38;5;28;01mreturn\u001b[39;00m lib.map_infer_mask(\n\u001b[32m   1746\u001b[39m         values, mapper, mask=isna(values).view(np.uint8), convert=convert\n\u001b[32m   1747\u001b[39m     )\n",
      "\u001b[36mFile \u001b[39m\u001b[32mlib.pyx:2972\u001b[39m, in \u001b[36mpandas._libs.lib.map_infer\u001b[39m\u001b[34m()\u001b[39m\n",
      "\u001b[36mCell\u001b[39m\u001b[36m \u001b[39m\u001b[32mIn[4]\u001b[39m\u001b[32m, line 27\u001b[39m, in \u001b[36mclean_text\u001b[39m\u001b[34m(text)\u001b[39m\n\u001b[32m     25\u001b[39m     \u001b[38;5;28;01mreturn\u001b[39;00m \u001b[33m'\u001b[39m\u001b[33m'\u001b[39m\n\u001b[32m     26\u001b[39m text = re.sub(\u001b[33mr\u001b[39m\u001b[33m'\u001b[39m\u001b[33m[^a-zA-Z\u001b[39m\u001b[33m\\\u001b[39m\u001b[33ms]\u001b[39m\u001b[33m'\u001b[39m, \u001b[33m'\u001b[39m\u001b[33m'\u001b[39m, text.lower())  \u001b[38;5;66;03m# Remove non-letters\u001b[39;00m\n\u001b[32m---> \u001b[39m\u001b[32m27\u001b[39m tokens = \u001b[43mword_tokenize\u001b[49m\u001b[43m(\u001b[49m\u001b[43mtext\u001b[49m\u001b[43m)\u001b[49m  \u001b[38;5;66;03m# Split into words\u001b[39;00m\n\u001b[32m     28\u001b[39m tokens = [lemmatizer.lemmatize(word) \u001b[38;5;28;01mfor\u001b[39;00m word \u001b[38;5;129;01min\u001b[39;00m tokens \u001b[38;5;28;01mif\u001b[39;00m word \u001b[38;5;129;01mnot\u001b[39;00m \u001b[38;5;129;01min\u001b[39;00m stop_words \u001b[38;5;129;01mand\u001b[39;00m \u001b[38;5;28mlen\u001b[39m(word) > \u001b[32m2\u001b[39m]\n\u001b[32m     29\u001b[39m \u001b[38;5;28;01mreturn\u001b[39;00m \u001b[33m'\u001b[39m\u001b[33m \u001b[39m\u001b[33m'\u001b[39m.join(tokens)\n",
      "\u001b[36mFile \u001b[39m\u001b[32m~\\AppData\\Local\\Programs\\Python\\Python311\\Lib\\site-packages\\nltk\\tokenize\\__init__.py:142\u001b[39m, in \u001b[36mword_tokenize\u001b[39m\u001b[34m(text, language, preserve_line)\u001b[39m\n\u001b[32m    127\u001b[39m \u001b[38;5;28;01mdef\u001b[39;00m\u001b[38;5;250m \u001b[39m\u001b[34mword_tokenize\u001b[39m(text, language=\u001b[33m\"\u001b[39m\u001b[33menglish\u001b[39m\u001b[33m\"\u001b[39m, preserve_line=\u001b[38;5;28;01mFalse\u001b[39;00m):\n\u001b[32m    128\u001b[39m \u001b[38;5;250m    \u001b[39m\u001b[33;03m\"\"\"\u001b[39;00m\n\u001b[32m    129\u001b[39m \u001b[33;03m    Return a tokenized copy of *text*,\u001b[39;00m\n\u001b[32m    130\u001b[39m \u001b[33;03m    using NLTK's recommended word tokenizer\u001b[39;00m\n\u001b[32m   (...)\u001b[39m\u001b[32m    140\u001b[39m \u001b[33;03m    :type preserve_line: bool\u001b[39;00m\n\u001b[32m    141\u001b[39m \u001b[33;03m    \"\"\"\u001b[39;00m\n\u001b[32m--> \u001b[39m\u001b[32m142\u001b[39m     sentences = [text] \u001b[38;5;28;01mif\u001b[39;00m preserve_line \u001b[38;5;28;01melse\u001b[39;00m \u001b[43msent_tokenize\u001b[49m\u001b[43m(\u001b[49m\u001b[43mtext\u001b[49m\u001b[43m,\u001b[49m\u001b[43m \u001b[49m\u001b[43mlanguage\u001b[49m\u001b[43m)\u001b[49m\n\u001b[32m    143\u001b[39m     \u001b[38;5;28;01mreturn\u001b[39;00m [\n\u001b[32m    144\u001b[39m         token \u001b[38;5;28;01mfor\u001b[39;00m sent \u001b[38;5;129;01min\u001b[39;00m sentences \u001b[38;5;28;01mfor\u001b[39;00m token \u001b[38;5;129;01min\u001b[39;00m _treebank_word_tokenizer.tokenize(sent)\n\u001b[32m    145\u001b[39m     ]\n",
      "\u001b[36mFile \u001b[39m\u001b[32m~\\AppData\\Local\\Programs\\Python\\Python311\\Lib\\site-packages\\nltk\\tokenize\\__init__.py:119\u001b[39m, in \u001b[36msent_tokenize\u001b[39m\u001b[34m(text, language)\u001b[39m\n\u001b[32m    109\u001b[39m \u001b[38;5;28;01mdef\u001b[39;00m\u001b[38;5;250m \u001b[39m\u001b[34msent_tokenize\u001b[39m(text, language=\u001b[33m\"\u001b[39m\u001b[33menglish\u001b[39m\u001b[33m\"\u001b[39m):\n\u001b[32m    110\u001b[39m \u001b[38;5;250m    \u001b[39m\u001b[33;03m\"\"\"\u001b[39;00m\n\u001b[32m    111\u001b[39m \u001b[33;03m    Return a sentence-tokenized copy of *text*,\u001b[39;00m\n\u001b[32m    112\u001b[39m \u001b[33;03m    using NLTK's recommended sentence tokenizer\u001b[39;00m\n\u001b[32m   (...)\u001b[39m\u001b[32m    117\u001b[39m \u001b[33;03m    :param language: the model name in the Punkt corpus\u001b[39;00m\n\u001b[32m    118\u001b[39m \u001b[33;03m    \"\"\"\u001b[39;00m\n\u001b[32m--> \u001b[39m\u001b[32m119\u001b[39m     tokenizer = \u001b[43m_get_punkt_tokenizer\u001b[49m\u001b[43m(\u001b[49m\u001b[43mlanguage\u001b[49m\u001b[43m)\u001b[49m\n\u001b[32m    120\u001b[39m     \u001b[38;5;28;01mreturn\u001b[39;00m tokenizer.tokenize(text)\n",
      "\u001b[36mFile \u001b[39m\u001b[32m~\\AppData\\Local\\Programs\\Python\\Python311\\Lib\\site-packages\\nltk\\tokenize\\__init__.py:105\u001b[39m, in \u001b[36m_get_punkt_tokenizer\u001b[39m\u001b[34m(language)\u001b[39m\n\u001b[32m     96\u001b[39m \u001b[38;5;129m@functools\u001b[39m.lru_cache\n\u001b[32m     97\u001b[39m \u001b[38;5;28;01mdef\u001b[39;00m\u001b[38;5;250m \u001b[39m\u001b[34m_get_punkt_tokenizer\u001b[39m(language=\u001b[33m\"\u001b[39m\u001b[33menglish\u001b[39m\u001b[33m\"\u001b[39m):\n\u001b[32m     98\u001b[39m \u001b[38;5;250m    \u001b[39m\u001b[33;03m\"\"\"\u001b[39;00m\n\u001b[32m     99\u001b[39m \u001b[33;03m    A constructor for the PunktTokenizer that utilizes\u001b[39;00m\n\u001b[32m    100\u001b[39m \u001b[33;03m    a lru cache for performance.\u001b[39;00m\n\u001b[32m   (...)\u001b[39m\u001b[32m    103\u001b[39m \u001b[33;03m    :type language: str\u001b[39;00m\n\u001b[32m    104\u001b[39m \u001b[33;03m    \"\"\"\u001b[39;00m\n\u001b[32m--> \u001b[39m\u001b[32m105\u001b[39m     \u001b[38;5;28;01mreturn\u001b[39;00m \u001b[43mPunktTokenizer\u001b[49m\u001b[43m(\u001b[49m\u001b[43mlanguage\u001b[49m\u001b[43m)\u001b[49m\n",
      "\u001b[36mFile \u001b[39m\u001b[32m~\\AppData\\Local\\Programs\\Python\\Python311\\Lib\\site-packages\\nltk\\tokenize\\punkt.py:1744\u001b[39m, in \u001b[36mPunktTokenizer.__init__\u001b[39m\u001b[34m(self, lang)\u001b[39m\n\u001b[32m   1742\u001b[39m \u001b[38;5;28;01mdef\u001b[39;00m\u001b[38;5;250m \u001b[39m\u001b[34m__init__\u001b[39m(\u001b[38;5;28mself\u001b[39m, lang=\u001b[33m\"\u001b[39m\u001b[33menglish\u001b[39m\u001b[33m\"\u001b[39m):\n\u001b[32m   1743\u001b[39m     PunktSentenceTokenizer.\u001b[34m__init__\u001b[39m(\u001b[38;5;28mself\u001b[39m)\n\u001b[32m-> \u001b[39m\u001b[32m1744\u001b[39m     \u001b[38;5;28;43mself\u001b[39;49m\u001b[43m.\u001b[49m\u001b[43mload_lang\u001b[49m\u001b[43m(\u001b[49m\u001b[43mlang\u001b[49m\u001b[43m)\u001b[49m\n",
      "\u001b[36mFile \u001b[39m\u001b[32m~\\AppData\\Local\\Programs\\Python\\Python311\\Lib\\site-packages\\nltk\\tokenize\\punkt.py:1749\u001b[39m, in \u001b[36mPunktTokenizer.load_lang\u001b[39m\u001b[34m(self, lang)\u001b[39m\n\u001b[32m   1746\u001b[39m \u001b[38;5;28;01mdef\u001b[39;00m\u001b[38;5;250m \u001b[39m\u001b[34mload_lang\u001b[39m(\u001b[38;5;28mself\u001b[39m, lang=\u001b[33m\"\u001b[39m\u001b[33menglish\u001b[39m\u001b[33m\"\u001b[39m):\n\u001b[32m   1747\u001b[39m     \u001b[38;5;28;01mfrom\u001b[39;00m\u001b[38;5;250m \u001b[39m\u001b[34;01mnltk\u001b[39;00m\u001b[34;01m.\u001b[39;00m\u001b[34;01mdata\u001b[39;00m\u001b[38;5;250m \u001b[39m\u001b[38;5;28;01mimport\u001b[39;00m find\n\u001b[32m-> \u001b[39m\u001b[32m1749\u001b[39m     lang_dir = \u001b[43mfind\u001b[49m\u001b[43m(\u001b[49m\u001b[33;43mf\u001b[39;49m\u001b[33;43m\"\u001b[39;49m\u001b[33;43mtokenizers/punkt_tab/\u001b[39;49m\u001b[38;5;132;43;01m{\u001b[39;49;00m\u001b[43mlang\u001b[49m\u001b[38;5;132;43;01m}\u001b[39;49;00m\u001b[33;43m/\u001b[39;49m\u001b[33;43m\"\u001b[39;49m\u001b[43m)\u001b[49m\n\u001b[32m   1750\u001b[39m     \u001b[38;5;28mself\u001b[39m._params = load_punkt_params(lang_dir)\n\u001b[32m   1751\u001b[39m     \u001b[38;5;28mself\u001b[39m._lang = lang\n",
      "\u001b[36mFile \u001b[39m\u001b[32m~\\AppData\\Local\\Programs\\Python\\Python311\\Lib\\site-packages\\nltk\\data.py:579\u001b[39m, in \u001b[36mfind\u001b[39m\u001b[34m(resource_name, paths)\u001b[39m\n\u001b[32m    577\u001b[39m sep = \u001b[33m\"\u001b[39m\u001b[33m*\u001b[39m\u001b[33m\"\u001b[39m * \u001b[32m70\u001b[39m\n\u001b[32m    578\u001b[39m resource_not_found = \u001b[33mf\u001b[39m\u001b[33m\"\u001b[39m\u001b[38;5;130;01m\\n\u001b[39;00m\u001b[38;5;132;01m{\u001b[39;00msep\u001b[38;5;132;01m}\u001b[39;00m\u001b[38;5;130;01m\\n\u001b[39;00m\u001b[38;5;132;01m{\u001b[39;00mmsg\u001b[38;5;132;01m}\u001b[39;00m\u001b[38;5;130;01m\\n\u001b[39;00m\u001b[38;5;132;01m{\u001b[39;00msep\u001b[38;5;132;01m}\u001b[39;00m\u001b[38;5;130;01m\\n\u001b[39;00m\u001b[33m\"\u001b[39m\n\u001b[32m--> \u001b[39m\u001b[32m579\u001b[39m \u001b[38;5;28;01mraise\u001b[39;00m \u001b[38;5;167;01mLookupError\u001b[39;00m(resource_not_found)\n",
      "\u001b[31mLookupError\u001b[39m: \n**********************************************************************\n  Resource \u001b[93mpunkt_tab\u001b[0m not found.\n  Please use the NLTK Downloader to obtain the resource:\n\n  \u001b[31m>>> import nltk\n  >>> nltk.download('punkt_tab')\n  \u001b[0m\n  For more information see: https://www.nltk.org/data.html\n\n  Attempted to load \u001b[93mtokenizers/punkt_tab/english/\u001b[0m\n\n  Searched in:\n    - 'C:\\\\Users\\\\muham/nltk_data'\n    - 'C:\\\\Users\\\\muham\\\\AppData\\\\Local\\\\Programs\\\\Python\\\\Python311\\\\nltk_data'\n    - 'C:\\\\Users\\\\muham\\\\AppData\\\\Local\\\\Programs\\\\Python\\\\Python311\\\\share\\\\nltk_data'\n    - 'C:\\\\Users\\\\muham\\\\AppData\\\\Local\\\\Programs\\\\Python\\\\Python311\\\\lib\\\\nltk_data'\n    - 'C:\\\\Users\\\\muham\\\\AppData\\\\Roaming\\\\nltk_data'\n    - 'C:\\\\nltk_data'\n    - 'D:\\\\nltk_data'\n    - 'E:\\\\nltk_data'\n**********************************************************************\n"
     ]
    }
   ],
   "source": [
    "import pandas as pd\n",
    "import re\n",
    "from nltk.corpus import stopwords\n",
    "from nltk.tokenize import word_tokenize\n",
    "from nltk.stem import WordNetLemmatizer\n",
    "\n",
    "# Download NLTK data\n",
    "import nltk\n",
    "nltk.download('punkt')\n",
    "nltk.download('stopwords')\n",
    "nltk.download('wordnet')\n",
    "\n",
    "# Load your data\n",
    "print(\"Loading quantum_papers.csv...\")\n",
    "df = pd.read_csv('quantum_papers.csv')\n",
    "print(f\"Loaded {len(df)} papers.\")\n",
    "\n",
    "# Set up stopwords and lemmatizer\n",
    "stop_words = set(stopwords.words('english'))\n",
    "lemmatizer = WordNetLemmatizer()\n",
    "\n",
    "# Define cleaning function\n",
    "def clean_text(text):\n",
    "    if pd.isna(text):  # Handle missing abstracts\n",
    "        return ''\n",
    "    text = re.sub(r'[^a-zA-Z\\s]', '', text.lower())  # Remove non-letters\n",
    "    tokens = word_tokenize(text)  # Split into words\n",
    "    tokens = [lemmatizer.lemmatize(word) for word in tokens if word not in stop_words and len(word) > 2]\n",
    "    return ' '.join(tokens)\n",
    "\n",
    "# Apply to abstracts\n",
    "print(\"Cleaning abstracts...\")\n",
    "df['clean_abstract'] = df['abstract'].apply(clean_text)\n",
    "df.to_csv('quantum_papers_cleaned.csv', index=False)\n",
    "print(\"Text cleaning done! Saved to quantum_papers_cleaned.csv.\")"
   ]
  },
  {
   "cell_type": "code",
   "execution_count": 10,
   "metadata": {},
   "outputs": [
    {
     "name": "stdout",
     "output_type": "stream",
     "text": [
      "Collecting gensim\n",
      "  Downloading gensim-4.3.3-cp311-cp311-win_amd64.whl.metadata (8.2 kB)\n",
      "Collecting numpy<2.0,>=1.18.5 (from gensim)\n",
      "  Downloading numpy-1.26.4-cp311-cp311-win_amd64.whl.metadata (61 kB)\n",
      "Collecting scipy<1.14.0,>=1.7.0 (from gensim)\n",
      "  Downloading scipy-1.13.1-cp311-cp311-win_amd64.whl.metadata (60 kB)\n",
      "Collecting smart-open>=1.8.1 (from gensim)\n",
      "  Downloading smart_open-7.1.0-py3-none-any.whl.metadata (24 kB)\n",
      "Collecting wrapt (from smart-open>=1.8.1->gensim)\n",
      "  Downloading wrapt-1.17.2-cp311-cp311-win_amd64.whl.metadata (6.5 kB)\n",
      "Downloading gensim-4.3.3-cp311-cp311-win_amd64.whl (24.0 MB)\n",
      "   ---------------------------------------- 0.0/24.0 MB ? eta -:--:--\n",
      "   ---------------------------------------- 0.3/24.0 MB ? eta -:--:--\n",
      "   - -------------------------------------- 0.8/24.0 MB 2.4 MB/s eta 0:00:10\n",
      "   -- ------------------------------------- 1.6/24.0 MB 2.8 MB/s eta 0:00:09\n",
      "   --- ------------------------------------ 1.8/24.0 MB 2.6 MB/s eta 0:00:09\n",
      "   ---- ----------------------------------- 2.6/24.0 MB 2.5 MB/s eta 0:00:09\n",
      "   ----- ---------------------------------- 3.1/24.0 MB 2.6 MB/s eta 0:00:09\n",
      "   ------ --------------------------------- 3.7/24.0 MB 2.6 MB/s eta 0:00:08\n",
      "   ------- -------------------------------- 4.5/24.0 MB 2.7 MB/s eta 0:00:08\n",
      "   -------- ------------------------------- 5.2/24.0 MB 2.8 MB/s eta 0:00:07\n",
      "   --------- ------------------------------ 5.8/24.0 MB 2.8 MB/s eta 0:00:07\n",
      "   ---------- ----------------------------- 6.6/24.0 MB 2.9 MB/s eta 0:00:07\n",
      "   ------------ --------------------------- 7.3/24.0 MB 2.9 MB/s eta 0:00:06\n",
      "   ------------- -------------------------- 8.1/24.0 MB 3.0 MB/s eta 0:00:06\n",
      "   -------------- ------------------------- 8.9/24.0 MB 3.0 MB/s eta 0:00:05\n",
      "   ---------------- ----------------------- 9.7/24.0 MB 3.1 MB/s eta 0:00:05\n",
      "   ----------------- ---------------------- 10.5/24.0 MB 3.1 MB/s eta 0:00:05\n",
      "   ------------------ --------------------- 11.3/24.0 MB 3.2 MB/s eta 0:00:05\n",
      "   -------------------- ------------------- 12.1/24.0 MB 3.2 MB/s eta 0:00:04\n",
      "   --------------------- ------------------ 12.8/24.0 MB 3.2 MB/s eta 0:00:04\n",
      "   ---------------------- ----------------- 13.6/24.0 MB 3.3 MB/s eta 0:00:04\n",
      "   ------------------------ --------------- 14.7/24.0 MB 3.3 MB/s eta 0:00:03\n",
      "   ------------------------- -------------- 15.5/24.0 MB 3.3 MB/s eta 0:00:03\n",
      "   --------------------------- ------------ 16.3/24.0 MB 3.3 MB/s eta 0:00:03\n",
      "   ---------------------------- ----------- 17.0/24.0 MB 3.3 MB/s eta 0:00:03\n",
      "   ----------------------------- ---------- 17.8/24.0 MB 3.4 MB/s eta 0:00:02\n",
      "   ------------------------------- -------- 18.6/24.0 MB 3.4 MB/s eta 0:00:02\n",
      "   -------------------------------- ------- 19.4/24.0 MB 3.4 MB/s eta 0:00:02\n",
      "   ---------------------------------- ----- 20.4/24.0 MB 3.4 MB/s eta 0:00:02\n",
      "   ----------------------------------- ---- 21.2/24.0 MB 3.4 MB/s eta 0:00:01\n",
      "   ------------------------------------ --- 22.0/24.0 MB 3.5 MB/s eta 0:00:01\n",
      "   ------------------------------------- -- 22.8/24.0 MB 3.5 MB/s eta 0:00:01\n",
      "   ---------------------------------------  23.9/24.0 MB 3.5 MB/s eta 0:00:01\n",
      "   ---------------------------------------- 24.0/24.0 MB 3.4 MB/s eta 0:00:00\n",
      "Downloading numpy-1.26.4-cp311-cp311-win_amd64.whl (15.8 MB)\n",
      "   ---------------------------------------- 0.0/15.8 MB ? eta -:--:--\n",
      "   - -------------------------------------- 0.8/15.8 MB 4.2 MB/s eta 0:00:04\n",
      "   ---- ----------------------------------- 1.8/15.8 MB 4.4 MB/s eta 0:00:04\n",
      "   ------ --------------------------------- 2.6/15.8 MB 4.3 MB/s eta 0:00:04\n",
      "   --------- ------------------------------ 3.7/15.8 MB 4.3 MB/s eta 0:00:03\n",
      "   ----------- ---------------------------- 4.5/15.8 MB 4.3 MB/s eta 0:00:03\n",
      "   ------------- -------------------------- 5.5/15.8 MB 4.4 MB/s eta 0:00:03\n",
      "   ---------------- ----------------------- 6.6/15.8 MB 4.4 MB/s eta 0:00:03\n",
      "   ------------------ --------------------- 7.3/15.8 MB 4.4 MB/s eta 0:00:02\n",
      "   --------------------- ------------------ 8.4/15.8 MB 4.4 MB/s eta 0:00:02\n",
      "   ----------------------- ---------------- 9.4/15.8 MB 4.5 MB/s eta 0:00:02\n",
      "   -------------------------- ------------- 10.5/15.8 MB 4.5 MB/s eta 0:00:02\n",
      "   ----------------------------- ---------- 11.5/15.8 MB 4.6 MB/s eta 0:00:01\n",
      "   ------------------------------- -------- 12.6/15.8 MB 4.6 MB/s eta 0:00:01\n",
      "   --------------------------------- ------ 13.4/15.8 MB 4.6 MB/s eta 0:00:01\n",
      "   ------------------------------------ --- 14.4/15.8 MB 4.5 MB/s eta 0:00:01\n",
      "   -------------------------------------- - 15.2/15.8 MB 4.4 MB/s eta 0:00:01\n",
      "   ---------------------------------------- 15.8/15.8 MB 4.3 MB/s eta 0:00:00\n",
      "Downloading scipy-1.13.1-cp311-cp311-win_amd64.whl (46.2 MB)\n",
      "   ---------------------------------------- 0.0/46.2 MB ? eta -:--:--\n",
      "    --------------------------------------- 0.8/46.2 MB 4.8 MB/s eta 0:00:10\n",
      "   - -------------------------------------- 1.6/46.2 MB 4.0 MB/s eta 0:00:12\n",
      "   -- ------------------------------------- 2.4/46.2 MB 3.9 MB/s eta 0:00:12\n",
      "   -- ------------------------------------- 3.4/46.2 MB 4.1 MB/s eta 0:00:11\n",
      "   --- ------------------------------------ 4.2/46.2 MB 4.1 MB/s eta 0:00:11\n",
      "   ---- ----------------------------------- 5.0/46.2 MB 4.0 MB/s eta 0:00:11\n",
      "   ---- ----------------------------------- 5.5/46.2 MB 3.9 MB/s eta 0:00:11\n",
      "   ----- ---------------------------------- 6.3/46.2 MB 3.7 MB/s eta 0:00:11\n",
      "   ----- ---------------------------------- 6.8/46.2 MB 3.7 MB/s eta 0:00:11\n",
      "   ------ --------------------------------- 7.6/46.2 MB 3.7 MB/s eta 0:00:11\n",
      "   ------- -------------------------------- 8.4/46.2 MB 3.7 MB/s eta 0:00:11\n",
      "   ------- -------------------------------- 9.2/46.2 MB 3.6 MB/s eta 0:00:11\n",
      "   -------- ------------------------------- 10.0/46.2 MB 3.7 MB/s eta 0:00:10\n",
      "   --------- ------------------------------ 10.7/46.2 MB 3.6 MB/s eta 0:00:10\n",
      "   --------- ------------------------------ 11.3/46.2 MB 3.6 MB/s eta 0:00:10\n",
      "   ---------- ----------------------------- 12.1/46.2 MB 3.6 MB/s eta 0:00:10\n",
      "   ----------- ---------------------------- 12.8/46.2 MB 3.6 MB/s eta 0:00:10\n",
      "   ----------- ---------------------------- 13.6/46.2 MB 3.6 MB/s eta 0:00:10\n",
      "   ------------ --------------------------- 14.7/46.2 MB 3.6 MB/s eta 0:00:09\n",
      "   ------------- -------------------------- 15.5/46.2 MB 3.6 MB/s eta 0:00:09\n",
      "   -------------- ------------------------- 16.3/46.2 MB 3.6 MB/s eta 0:00:09\n",
      "   -------------- ------------------------- 17.0/46.2 MB 3.7 MB/s eta 0:00:08\n",
      "   --------------- ------------------------ 17.8/46.2 MB 3.7 MB/s eta 0:00:08\n",
      "   ---------------- ----------------------- 18.9/46.2 MB 3.7 MB/s eta 0:00:08\n",
      "   ---------------- ----------------------- 19.4/46.2 MB 3.7 MB/s eta 0:00:08\n",
      "   ----------------- ---------------------- 20.2/46.2 MB 3.6 MB/s eta 0:00:08\n",
      "   ----------------- ---------------------- 20.7/46.2 MB 3.6 MB/s eta 0:00:08\n",
      "   ------------------ --------------------- 21.2/46.2 MB 3.6 MB/s eta 0:00:07\n",
      "   ------------------- -------------------- 22.0/46.2 MB 3.6 MB/s eta 0:00:07\n",
      "   ------------------- -------------------- 22.5/46.2 MB 3.6 MB/s eta 0:00:07\n",
      "   -------------------- ------------------- 23.6/46.2 MB 3.6 MB/s eta 0:00:07\n",
      "   --------------------- ------------------ 24.4/46.2 MB 3.6 MB/s eta 0:00:07\n",
      "   --------------------- ------------------ 24.9/46.2 MB 3.6 MB/s eta 0:00:06\n",
      "   ---------------------- ----------------- 26.0/46.2 MB 3.6 MB/s eta 0:00:06\n",
      "   ----------------------- ---------------- 26.7/46.2 MB 3.6 MB/s eta 0:00:06\n",
      "   ----------------------- ---------------- 27.5/46.2 MB 3.6 MB/s eta 0:00:06\n",
      "   ------------------------ --------------- 28.3/46.2 MB 3.6 MB/s eta 0:00:05\n",
      "   ------------------------- -------------- 29.1/46.2 MB 3.6 MB/s eta 0:00:05\n",
      "   -------------------------- ------------- 30.1/46.2 MB 3.6 MB/s eta 0:00:05\n",
      "   -------------------------- ------------- 30.7/46.2 MB 3.6 MB/s eta 0:00:05\n",
      "   --------------------------- ------------ 31.5/46.2 MB 3.6 MB/s eta 0:00:05\n",
      "   --------------------------- ------------ 32.2/46.2 MB 3.6 MB/s eta 0:00:04\n",
      "   ---------------------------- ----------- 32.8/46.2 MB 3.6 MB/s eta 0:00:04\n",
      "   ----------------------------- ---------- 33.6/46.2 MB 3.6 MB/s eta 0:00:04\n",
      "   ----------------------------- ---------- 34.1/46.2 MB 3.6 MB/s eta 0:00:04\n",
      "   ------------------------------ --------- 34.9/46.2 MB 3.5 MB/s eta 0:00:04\n",
      "   ------------------------------ --------- 35.4/46.2 MB 3.5 MB/s eta 0:00:04\n",
      "   ------------------------------- -------- 36.2/46.2 MB 3.5 MB/s eta 0:00:03\n",
      "   -------------------------------- ------- 37.0/46.2 MB 3.5 MB/s eta 0:00:03\n",
      "   -------------------------------- ------- 37.7/46.2 MB 3.5 MB/s eta 0:00:03\n",
      "   --------------------------------- ------ 38.3/46.2 MB 3.5 MB/s eta 0:00:03\n",
      "   --------------------------------- ------ 39.1/46.2 MB 3.5 MB/s eta 0:00:03\n",
      "   ---------------------------------- ----- 39.8/46.2 MB 3.5 MB/s eta 0:00:02\n",
      "   ----------------------------------- ---- 40.6/46.2 MB 3.5 MB/s eta 0:00:02\n",
      "   ----------------------------------- ---- 41.2/46.2 MB 3.5 MB/s eta 0:00:02\n",
      "   ------------------------------------ --- 41.9/46.2 MB 3.5 MB/s eta 0:00:02\n",
      "   ------------------------------------ --- 42.7/46.2 MB 3.5 MB/s eta 0:00:01\n",
      "   ------------------------------------- -- 43.8/46.2 MB 3.5 MB/s eta 0:00:01\n",
      "   -------------------------------------- - 44.3/46.2 MB 3.5 MB/s eta 0:00:01\n",
      "   ---------------------------------------  45.1/46.2 MB 3.5 MB/s eta 0:00:01\n",
      "   ---------------------------------------  45.9/46.2 MB 3.5 MB/s eta 0:00:01\n",
      "   ---------------------------------------- 46.2/46.2 MB 3.5 MB/s eta 0:00:00\n",
      "Downloading smart_open-7.1.0-py3-none-any.whl (61 kB)\n",
      "Downloading wrapt-1.17.2-cp311-cp311-win_amd64.whl (38 kB)\n",
      "Installing collected packages: wrapt, numpy, smart-open, scipy, gensim\n",
      "  Attempting uninstall: numpy\n",
      "    Found existing installation: numpy 2.2.0\n",
      "    Uninstalling numpy-2.2.0:\n",
      "      Successfully uninstalled numpy-2.2.0\n",
      "  Attempting uninstall: scipy\n",
      "    Found existing installation: scipy 1.15.2\n",
      "    Uninstalling scipy-1.15.2:\n",
      "      Successfully uninstalled scipy-1.15.2\n",
      "Successfully installed gensim-4.3.3 numpy-1.26.4 scipy-1.13.1 smart-open-7.1.0 wrapt-1.17.2\n",
      "Note: you may need to restart the kernel to use updated packages.\n"
     ]
    },
    {
     "name": "stderr",
     "output_type": "stream",
     "text": [
      "  WARNING: Failed to remove contents in a temporary directory 'C:\\Users\\muham\\AppData\\Local\\Programs\\Python\\Python311\\Lib\\site-packages\\~umpy.libs'.\n",
      "  You can safely remove it manually.\n",
      "  WARNING: Failed to remove contents in a temporary directory 'C:\\Users\\muham\\AppData\\Local\\Programs\\Python\\Python311\\Lib\\site-packages\\~umpy'.\n",
      "  You can safely remove it manually.\n",
      "  WARNING: Failed to remove contents in a temporary directory 'C:\\Users\\muham\\AppData\\Local\\Programs\\Python\\Python311\\Lib\\site-packages\\~cipy.libs'.\n",
      "  You can safely remove it manually.\n",
      "  WARNING: Failed to remove contents in a temporary directory 'C:\\Users\\muham\\AppData\\Local\\Programs\\Python\\Python311\\Lib\\site-packages\\~cipy'.\n",
      "  You can safely remove it manually.\n"
     ]
    }
   ],
   "source": [
    "pip install gensim"
   ]
  },
  {
   "cell_type": "code",
   "execution_count": 2,
   "metadata": {},
   "outputs": [
    {
     "name": "stdout",
     "output_type": "stream",
     "text": [
      "Loading quantum_papers_cleaned.csv...\n",
      "Loaded 6095 abstracts for topic modeling.\n",
      "Creating dictionary and corpus...\n",
      "Training LDA model...\n",
      "Topics found:\n",
      "Topic 0: 0.020*\"quantum\" + 0.009*\"phase\" + 0.009*\"field\" + 0.008*\"system\" + 0.008*\"model\" + 0.008*\"state\" + 0.007*\"effect\" + 0.007*\"energy\" + 0.006*\"result\" + 0.006*\"transition\"\n",
      "Topic 1: 0.028*\"quantum\" + 0.011*\"theory\" + 0.008*\"measurement\" + 0.007*\"mechanic\" + 0.007*\"model\" + 0.006*\"universe\" + 0.006*\"energy\" + 0.006*\"problem\" + 0.006*\"interpretation\" + 0.006*\"physic\"\n",
      "Topic 2: 0.026*\"quantum\" + 0.019*\"state\" + 0.014*\"spin\" + 0.007*\"photon\" + 0.007*\"interaction\" + 0.007*\"dot\" + 0.006*\"single\" + 0.006*\"system\" + 0.006*\"entanglement\" + 0.006*\"optical\"\n",
      "Topic 3: 0.034*\"quantum\" + 0.015*\"state\" + 0.014*\"system\" + 0.011*\"function\" + 0.010*\"operator\" + 0.008*\"classical\" + 0.007*\"matrix\" + 0.007*\"show\" + 0.006*\"distribution\" + 0.006*\"also\"\n",
      "Topic 4: 0.027*\"theory\" + 0.024*\"field\" + 0.019*\"quantum\" + 0.011*\"gauge\" + 0.009*\"symmetry\" + 0.008*\"black\" + 0.007*\"space\" + 0.007*\"hole\" + 0.007*\"result\" + 0.007*\"scalar\"\n",
      "Assigning dominant topics to papers...\n",
      "Extracting years...\n",
      "Analyzing topic trends over time...\n",
      "Topic trends by year:\n",
      "dominant_topic    0    1    2    3    4\n",
      "year                                   \n",
      "2007            388  193  191  266  125\n",
      "2008            657  262  230  359  403\n",
      "2009            958  136  456  385  125\n",
      "2010             54   40   29   51   23\n",
      "2011             74   30   28   64   20\n",
      "2012             23   14   14   21   12\n",
      "2013             29    9   14   18    2\n",
      "2014              9   15    6   19   26\n",
      "2015             59   25   35   40   12\n",
      "2016             19   12    6   13    3\n",
      "2017             12    6    3    6    7\n",
      "2018              3    1    0    6    2\n",
      "2019              6    4    0    7    2\n",
      "2020              2    0    0    2    1\n",
      "2021              1    2    1    2    0\n",
      "2022              1    0    4    3    0\n",
      "2023              1    2    0    0    1\n",
      "2024              1    1    0    0    1\n",
      "2025              0    1    0    1    0\n",
      "Saved DataFrame with topics to quantum_papers_with_topics.csv.\n"
     ]
    }
   ],
   "source": [
    "from gensim import corpora\n",
    "from gensim.models import LdaModel\n",
    "import pandas as pd\n",
    "\n",
    "# Load cleaned data\n",
    "print(\"Loading quantum_papers_cleaned.csv...\")\n",
    "df = pd.read_csv('quantum_papers_cleaned.csv')\n",
    "texts = [text.split() for text in df['clean_abstract'].dropna()]\n",
    "print(f\"Loaded {len(texts)} abstracts for topic modeling.\")\n",
    "\n",
    "# Create dictionary and corpus\n",
    "print(\"Creating dictionary and corpus...\")\n",
    "dictionary = corpora.Dictionary(texts)\n",
    "corpus = [dictionary.doc2bow(text) for text in texts]\n",
    "\n",
    "# Train LDA model (5 topics)\n",
    "print(\"Training LDA model...\")\n",
    "lda_model = LdaModel(corpus=corpus, id2word=dictionary, num_topics=5, passes=10, random_state=42)\n",
    "\n",
    "# Print topics\n",
    "print(\"Topics found:\")\n",
    "for idx, topic in lda_model.print_topics(-1):\n",
    "    print(f\"Topic {idx}: {topic}\")\n",
    "\n",
    "# Assign dominant topic to each paper\n",
    "print(\"Assigning dominant topics to papers...\")\n",
    "df['dominant_topic'] = [max(lda_model[corpus[i]], key=lambda x: x[1])[0] if i < len(corpus) else -1 for i in range(len(df))]\n",
    "\n",
    "# Extract year from update_date\n",
    "print(\"Extracting years...\")\n",
    "df['year'] = pd.to_datetime(df['update_date']).dt.year\n",
    "\n",
    "# Group by year and topic\n",
    "print(\"Analyzing topic trends over time...\")\n",
    "topic_trends = df.groupby(['year', 'dominant_topic']).size().unstack(fill_value=0)\n",
    "print(\"Topic trends by year:\")\n",
    "print(topic_trends)\n",
    "\n",
    "# Save the updated DataFrame with topics\n",
    "df.to_csv('quantum_papers_with_topics.csv', index=False)\n",
    "print(\"Saved DataFrame with topics to quantum_papers_with_topics.csv.\")"
   ]
  },
  {
   "cell_type": "code",
   "execution_count": 3,
   "metadata": {},
   "outputs": [
    {
     "name": "stdout",
     "output_type": "stream",
     "text": [
      "Assigning dominant topics to papers...\n",
      "Extracting years...\n",
      "Analyzing topic trends over time...\n",
      "Topic trends by year:\n",
      "dominant_topic    0    1    2    3    4\n",
      "year                                   \n",
      "2007            388  193  191  266  125\n",
      "2008            657  262  230  359  403\n",
      "2009            958  136  456  385  125\n",
      "2010             54   40   29   51   23\n",
      "2011             74   30   28   64   20\n",
      "2012             23   14   14   21   12\n",
      "2013             29    9   14   18    2\n",
      "2014              9   15    6   19   26\n",
      "2015             59   25   35   40   12\n",
      "2016             19   12    6   13    3\n",
      "2017             12    6    3    6    7\n",
      "2018              3    1    0    6    2\n",
      "2019              6    4    0    7    2\n",
      "2020              2    0    0    2    1\n",
      "2021              1    2    1    2    0\n",
      "2022              1    0    4    3    0\n",
      "2023              1    2    0    0    1\n",
      "2024              1    1    0    0    1\n",
      "2025              0    1    0    1    0\n"
     ]
    }
   ],
   "source": [
    "# Assign dominant topic to each paper\n",
    "print(\"Assigning dominant topics to papers...\")\n",
    "df['dominant_topic'] = [max(lda_model[corpus[i]], key=lambda x: x[1])[0] if i < len(corpus) else -1 for i in range(len(df))]\n",
    "\n",
    "# Extract year from update_date\n",
    "print(\"Extracting years...\")\n",
    "df['year'] = pd.to_datetime(df['update_date']).dt.year\n",
    "\n",
    "# Group by year and topic\n",
    "print(\"Analyzing topic trends over time...\")\n",
    "topic_trends = df.groupby(['year', 'dominant_topic']).size().unstack(fill_value=0)\n",
    "print(\"Topic trends by year:\")\n",
    "print(topic_trends)"
   ]
  },
  {
   "cell_type": "code",
   "execution_count": 4,
   "metadata": {},
   "outputs": [
    {
     "name": "stdout",
     "output_type": "stream",
     "text": [
      "Requirement already satisfied: matplotlib in c:\\users\\muham\\appdata\\local\\programs\\python\\python311\\lib\\site-packages (3.10.0)\n",
      "Collecting seaborn\n",
      "  Downloading seaborn-0.13.2-py3-none-any.whl.metadata (5.4 kB)\n",
      "Requirement already satisfied: contourpy>=1.0.1 in c:\\users\\muham\\appdata\\local\\programs\\python\\python311\\lib\\site-packages (from matplotlib) (1.3.1)\n",
      "Requirement already satisfied: cycler>=0.10 in c:\\users\\muham\\appdata\\local\\programs\\python\\python311\\lib\\site-packages (from matplotlib) (0.12.1)\n",
      "Requirement already satisfied: fonttools>=4.22.0 in c:\\users\\muham\\appdata\\local\\programs\\python\\python311\\lib\\site-packages (from matplotlib) (4.55.3)\n",
      "Requirement already satisfied: kiwisolver>=1.3.1 in c:\\users\\muham\\appdata\\local\\programs\\python\\python311\\lib\\site-packages (from matplotlib) (1.4.7)\n",
      "Requirement already satisfied: numpy>=1.23 in c:\\users\\muham\\appdata\\local\\programs\\python\\python311\\lib\\site-packages (from matplotlib) (1.26.4)\n",
      "Requirement already satisfied: packaging>=20.0 in c:\\users\\muham\\appdata\\local\\programs\\python\\python311\\lib\\site-packages (from matplotlib) (24.2)\n",
      "Requirement already satisfied: pillow>=8 in c:\\users\\muham\\appdata\\local\\programs\\python\\python311\\lib\\site-packages (from matplotlib) (11.0.0)\n",
      "Requirement already satisfied: pyparsing>=2.3.1 in c:\\users\\muham\\appdata\\local\\programs\\python\\python311\\lib\\site-packages (from matplotlib) (3.2.0)\n",
      "Requirement already satisfied: python-dateutil>=2.7 in c:\\users\\muham\\appdata\\local\\programs\\python\\python311\\lib\\site-packages (from matplotlib) (2.9.0.post0)\n",
      "Requirement already satisfied: pandas>=1.2 in c:\\users\\muham\\appdata\\local\\programs\\python\\python311\\lib\\site-packages (from seaborn) (2.2.3)\n",
      "Requirement already satisfied: pytz>=2020.1 in c:\\users\\muham\\appdata\\local\\programs\\python\\python311\\lib\\site-packages (from pandas>=1.2->seaborn) (2025.1)\n",
      "Requirement already satisfied: tzdata>=2022.7 in c:\\users\\muham\\appdata\\local\\programs\\python\\python311\\lib\\site-packages (from pandas>=1.2->seaborn) (2025.1)\n",
      "Requirement already satisfied: six>=1.5 in c:\\users\\muham\\appdata\\local\\programs\\python\\python311\\lib\\site-packages (from python-dateutil>=2.7->matplotlib) (1.17.0)\n",
      "Downloading seaborn-0.13.2-py3-none-any.whl (294 kB)\n",
      "Installing collected packages: seaborn\n",
      "Successfully installed seaborn-0.13.2\n",
      "Note: you may need to restart the kernel to use updated packages.\n"
     ]
    }
   ],
   "source": [
    "pip install matplotlib seaborn"
   ]
  },
  {
   "cell_type": "code",
   "execution_count": 3,
   "metadata": {},
   "outputs": [
    {
     "name": "stdout",
     "output_type": "stream",
     "text": [
      "Loading quantum_papers_with_topics.csv...\n",
      "Creating topic trends table...\n",
      "Topic trends by year:\n",
      "dominant_topic    0    1    2    3    4\n",
      "year                                   \n",
      "2007            388  193  191  266  125\n",
      "2008            657  262  230  359  403\n",
      "2009            958  136  456  385  125\n",
      "2010             54   40   29   51   23\n",
      "2011             74   30   28   64   20\n",
      "2012             23   14   14   21   12\n",
      "2013             29    9   14   18    2\n",
      "2014              9   15    6   19   26\n",
      "2015             59   25   35   40   12\n",
      "2016             19   12    6   13    3\n",
      "2017             12    6    3    6    7\n",
      "2018              3    1    0    6    2\n",
      "2019              6    4    0    7    2\n",
      "2020              2    0    0    2    1\n",
      "2021              1    2    1    2    0\n",
      "2022              1    0    4    3    0\n",
      "2023              1    2    0    0    1\n",
      "2024              1    1    0    0    1\n",
      "2025              0    1    0    1    0\n",
      "Creating topic trends plot...\n"
     ]
    },
    {
     "data": {
      "image/png": "[encoded data removed]",
      "text/plain": [
       "<Figure size 1200x600 with 1 Axes>"
      ]
     },
     "metadata": {},
     "output_type": "display_data"
    },
    {
     "name": "stdout",
     "output_type": "stream",
     "text": [
      "Plot saved as topic_trends.png.\n"
     ]
    }
   ],
   "source": [
    "import pandas as pd\n",
    "import matplotlib.pyplot as plt\n",
    "import seaborn as sns\n",
    "\n",
    "# Load the DataFrame with topics\n",
    "print(\"Loading quantum_papers_with_topics.csv...\")\n",
    "df = pd.read_csv('quantum_papers_with_topics.csv')\n",
    "\n",
    "# Recreate topic trends\n",
    "print(\"Creating topic trends table...\")\n",
    "topic_trends = df.groupby(['year', 'dominant_topic']).size().unstack(fill_value=0)\n",
    "print(\"Topic trends by year:\")\n",
    "print(topic_trends)\n",
    "\n",
    "# Plot trends\n",
    "print(\"Creating topic trends plot...\")\n",
    "plt.figure(figsize=(12, 6))\n",
    "for topic in topic_trends.columns:\n",
    "    if topic != -1:  # Skip invalid topics\n",
    "        plt.plot(topic_trends.index, topic_trends[topic], label=f'Topic {topic}')\n",
    "plt.xlabel('Year')\n",
    "plt.ylabel('Number of Papers')\n",
    "plt.title('Topic Trends in Quantum Machine Learning Papers')\n",
    "plt.legend()\n",
    "plt.savefig('topic_trends.png')\n",
    "plt.show()\n",
    "print(\"Plot saved as topic_trends.png.\")"
   ]
  },
  {
   "cell_type": "code",
   "execution_count": null,
   "metadata": {},
   "outputs": [],
   "source": []
  }
 ],
 "metadata": {
  "kernelspec": {
   "display_name": "Python 3 (ipykernel)",
   "language": "python",
   "name": "python3"
  },
  "language_info": {
   "codemirror_mode": {
    "name": "ipython",
    "version": 3
   },
   "file_extension": ".py",
   "mimetype": "text/x-python",
   "name": "python",
   "nbconvert_exporter": "python",
   "pygments_lexer": "ipython3",
   "version": "3.11.3"
  }
 },
 "nbformat": 4,
 "nbformat_minor": 4
}
